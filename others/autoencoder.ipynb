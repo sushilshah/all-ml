{
 "cells": [
  {
   "cell_type": "markdown",
   "metadata": {
    "colab_type": "text",
    "id": "H27EiL8q8xtD"
   },
   "source": [
    "Let's build the simplest possible autoencoder\n",
    "We'll start simple, with a single fully-connected neural layer as encoder and as decoder:"
   ]
  },
  {
   "cell_type": "code",
   "execution_count": 5,
   "metadata": {
    "colab": {
     "autoexec": {
      "startup": false,
      "wait_interval": 0
     },
     "base_uri": "https://localhost:8080/",
     "height": 34,
     "output_extras": [
      {
       "item_id": 1
      }
     ]
    },
    "colab_type": "code",
    "executionInfo": {
     "elapsed": 18801,
     "status": "ok",
     "timestamp": 1518605746427,
     "user": {
      "displayName": "Sushil Shah",
      "photoUrl": "//lh4.googleusercontent.com/-Ktk_nB19OQ4/AAAAAAAAAAI/AAAAAAAAFyE/m_ujZFjPlsE/s50-c-k-no/photo.jpg",
      "userId": "106187235510358892083"
     },
     "user_tz": -330
    },
    "id": "rZoV38Q88zMH",
    "outputId": "5f78051d-fd98-4a8f-ce52-e0a213426fc2"
   },
   "outputs": [
    {
     "name": "stderr",
     "output_type": "stream",
     "text": [
      "Using TensorFlow backend.\n"
     ]
    }
   ],
   "source": [
    "# !pip install keras\n",
    "#!pip install --upgrade tensorflow\n",
    "import keras\n"
   ]
  },
  {
   "cell_type": "code",
   "execution_count": 6,
   "metadata": {
    "colab": {
     "autoexec": {
      "startup": false,
      "wait_interval": 0
     }
    },
    "colab_type": "code",
    "collapsed": true,
    "id": "6QDddgl58_Ve"
   },
   "outputs": [],
   "source": [
    "from keras.layers import Input, Dense\n",
    "from keras.models import Model\n"
   ]
  },
  {
   "cell_type": "code",
   "execution_count": 7,
   "metadata": {
    "colab": {
     "autoexec": {
      "startup": false,
      "wait_interval": 0
     }
    },
    "colab_type": "code",
    "collapsed": true,
    "id": "PRscguVs834F"
   },
   "outputs": [],
   "source": [
    "\n",
    "# this is the size of our encoded representations\n",
    "encoding_dim = 32  # 32 floats -> compression of factor 24.5, assuming the input is 784 floats\n",
    "\n",
    "# this is our input placeholder\n",
    "input_img = Input(shape=(784,))\n",
    "# \"encoded\" is the encoded representation of the input\n",
    "encoded = Dense(encoding_dim, activation='relu')(input_img)\n",
    "# \"decoded\" is the lossy reconstruction of the input\n",
    "decoded = Dense(784, activation='sigmoid')(encoded)\n",
    "\n",
    "# this model maps an input to its reconstruction\n",
    "autoencoder = Model(input_img, decoded)"
   ]
  },
  {
   "cell_type": "markdown",
   "metadata": {
    "colab_type": "text",
    "id": "PuhAAg_J9WcJ"
   },
   "source": [
    "https://blog.keras.io/building-autoencoders-in-keras.html\n",
    "Let's also create a separate encoder model:\n"
   ]
  },
  {
   "cell_type": "code",
   "execution_count": 8,
   "metadata": {
    "colab": {
     "autoexec": {
      "startup": false,
      "wait_interval": 0
     }
    },
    "colab_type": "code",
    "collapsed": true,
    "id": "fy4maU9C9YBo"
   },
   "outputs": [],
   "source": [
    "# this model maps an input to its encoded representation\n",
    "encoder = Model(input_img, encoded)"
   ]
  },
  {
   "cell_type": "code",
   "execution_count": 9,
   "metadata": {
    "colab": {
     "autoexec": {
      "startup": false,
      "wait_interval": 0
     }
    },
    "colab_type": "code",
    "collapsed": true,
    "id": "qeH-kYIR-hwJ"
   },
   "outputs": [],
   "source": [
    "# create a placeholder for an encoded (32-dimensional) input\n",
    "encoded_input = Input(shape=(encoding_dim,))\n",
    "# retrieve the last layer of the autoencoder model\n",
    "decoder_layer = autoencoder.layers[-1]\n",
    "# create the decoder model\n",
    "decoder = Model(encoded_input, decoder_layer(encoded_input))"
   ]
  },
  {
   "cell_type": "code",
   "execution_count": 10,
   "metadata": {
    "colab": {
     "autoexec": {
      "startup": false,
      "wait_interval": 0
     }
    },
    "colab_type": "code",
    "collapsed": true,
    "id": "ctwwjLXr-jPO"
   },
   "outputs": [],
   "source": [
    "autoencoder.compile(optimizer='adadelta', loss='binary_crossentropy')"
   ]
  },
  {
   "cell_type": "code",
   "execution_count": 19,
   "metadata": {
    "colab": {
     "autoexec": {
      "startup": false,
      "wait_interval": 0
     },
     "base_uri": "https://localhost:8080/",
     "height": 51,
     "output_extras": [
      {
       "item_id": 5
      }
     ]
    },
    "colab_type": "code",
    "executionInfo": {
     "elapsed": 4381,
     "status": "ok",
     "timestamp": 1518606135756,
     "user": {
      "displayName": "Sushil Shah",
      "photoUrl": "//lh4.googleusercontent.com/-Ktk_nB19OQ4/AAAAAAAAAAI/AAAAAAAAFyE/m_ujZFjPlsE/s50-c-k-no/photo.jpg",
      "userId": "106187235510358892083"
     },
     "user_tz": -330
    },
    "id": "4hAvKFH0-oH3",
    "outputId": "c247fd00-b8d2-49b5-baf2-14ac4f90cc3d"
   },
   "outputs": [
    {
     "name": "stdout",
     "output_type": "stream",
     "text": [
      "Downloading data from https://s3.amazonaws.com/img-datasets/mnist.npz\n",
      "11493376/11490434 [==============================] - 19s 2us/step\n"
     ]
    }
   ],
   "source": [
    "from keras.datasets import mnist\n",
    "import numpy as np\n",
    "(x_train, _), (x_test, _) = mnist.load_data()"
   ]
  },
  {
   "cell_type": "code",
   "execution_count": 20,
   "metadata": {
    "colab": {
     "autoexec": {
      "startup": false,
      "wait_interval": 0
     },
     "base_uri": "https://localhost:8080/",
     "height": 51,
     "output_extras": [
      {
       "item_id": 1
      }
     ]
    },
    "colab_type": "code",
    "executionInfo": {
     "elapsed": 1040,
     "status": "ok",
     "timestamp": 1518606521047,
     "user": {
      "displayName": "Sushil Shah",
      "photoUrl": "//lh4.googleusercontent.com/-Ktk_nB19OQ4/AAAAAAAAAAI/AAAAAAAAFyE/m_ujZFjPlsE/s50-c-k-no/photo.jpg",
      "userId": "106187235510358892083"
     },
     "user_tz": -330
    },
    "id": "Kaw7meQx-qBo",
    "outputId": "10076522-0cbf-4d90-e53a-a6212f85f4a8"
   },
   "outputs": [
    {
     "name": "stdout",
     "output_type": "stream",
     "text": [
      "(60000, 784)\n",
      "(10000, 784)\n"
     ]
    }
   ],
   "source": [
    "x_train = x_train.astype('float32') / 255.\n",
    "x_test = x_test.astype('float32') / 255.\n",
    "x_train = x_train.reshape((len(x_train), np.prod(x_train.shape[1:])))\n",
    "x_test = x_test.reshape((len(x_test), np.prod(x_test.shape[1:])))\n",
    "print(x_train.shape)\n",
    "print (x_test.shape)"
   ]
  },
  {
   "cell_type": "code",
   "execution_count": 21,
   "metadata": {
    "colab": {
     "autoexec": {
      "startup": false,
      "wait_interval": 0
     },
     "base_uri": "https://localhost:8080/",
     "height": 1771,
     "output_extras": [
      {
       "item_id": 55
      },
      {
       "item_id": 79
      },
      {
       "item_id": 92
      },
      {
       "item_id": 112
      },
      {
       "item_id": 133
      },
      {
       "item_id": 155
      },
      {
       "item_id": 177
      },
      {
       "item_id": 199
      },
      {
       "item_id": 221
      },
      {
       "item_id": 243
      },
      {
       "item_id": 262
      },
      {
       "item_id": 279
      },
      {
       "item_id": 288
      },
      {
       "item_id": 289
      }
     ]
    },
    "colab_type": "code",
    "executionInfo": {
     "elapsed": 261584,
     "status": "ok",
     "timestamp": 1518606800215,
     "user": {
      "displayName": "Sushil Shah",
      "photoUrl": "//lh4.googleusercontent.com/-Ktk_nB19OQ4/AAAAAAAAAAI/AAAAAAAAFyE/m_ujZFjPlsE/s50-c-k-no/photo.jpg",
      "userId": "106187235510358892083"
     },
     "user_tz": -330
    },
    "id": "A6a0re7q-yjy",
    "outputId": "dfe2aa60-4a08-4ce2-f688-aa2293c5cea0"
   },
   "outputs": [
    {
     "name": "stdout",
     "output_type": "stream",
     "text": [
      "Train on 60000 samples, validate on 10000 samples\n",
      "Epoch 1/50\n",
      "60000/60000 [==============================] - 6s 105us/step - loss: 0.3612 - val_loss: 0.2715\n",
      "Epoch 2/50\n",
      "60000/60000 [==============================] - 5s 82us/step - loss: 0.2646 - val_loss: 0.2539\n",
      "Epoch 3/50\n",
      "60000/60000 [==============================] - 5s 80us/step - loss: 0.2440 - val_loss: 0.2318\n",
      "Epoch 4/50\n",
      "60000/60000 [==============================] - 5s 81us/step - loss: 0.2250 - val_loss: 0.2151\n",
      "Epoch 5/50\n",
      "60000/60000 [==============================] - 5s 81us/step - loss: 0.2100 - val_loss: 0.2020\n",
      "Epoch 6/50\n",
      "60000/60000 [==============================] - 5s 80us/step - loss: 0.1985 - val_loss: 0.1920\n",
      "Epoch 7/50\n",
      "60000/60000 [==============================] - 5s 78us/step - loss: 0.1894 - val_loss: 0.1839\n",
      "Epoch 8/50\n",
      "60000/60000 [==============================] - 5s 79us/step - loss: 0.1818 - val_loss: 0.1768\n",
      "Epoch 9/50\n",
      "60000/60000 [==============================] - 5s 87us/step - loss: 0.1754 - val_loss: 0.1710\n",
      "Epoch 10/50\n",
      "60000/60000 [==============================] - 5s 89us/step - loss: 0.1699 - val_loss: 0.1661\n",
      "Epoch 11/50\n",
      "60000/60000 [==============================] - 5s 88us/step - loss: 0.1653 - val_loss: 0.1617\n",
      "Epoch 12/50\n",
      "60000/60000 [==============================] - 5s 86us/step - loss: 0.1612 - val_loss: 0.1578\n",
      "Epoch 13/50\n",
      "60000/60000 [==============================] - 5s 86us/step - loss: 0.1574 - val_loss: 0.1542\n",
      "Epoch 14/50\n",
      "60000/60000 [==============================] - 4s 71us/step - loss: 0.1539 - val_loss: 0.1508\n",
      "Epoch 15/50\n",
      "60000/60000 [==============================] - 4s 72us/step - loss: 0.1506 - val_loss: 0.1475\n",
      "Epoch 16/50\n",
      "60000/60000 [==============================] - 4s 73us/step - loss: 0.1474 - val_loss: 0.1445\n",
      "Epoch 17/50\n",
      "60000/60000 [==============================] - 4s 68us/step - loss: 0.1445 - val_loss: 0.1417\n",
      "Epoch 18/50\n",
      "60000/60000 [==============================] - 4s 72us/step - loss: 0.1418 - val_loss: 0.1390\n",
      "Epoch 19/50\n",
      "60000/60000 [==============================] - 4s 72us/step - loss: 0.1393 - val_loss: 0.1367\n",
      "Epoch 20/50\n",
      "60000/60000 [==============================] - 4s 68us/step - loss: 0.1370 - val_loss: 0.1344\n",
      "Epoch 21/50\n",
      "60000/60000 [==============================] - 4s 71us/step - loss: 0.1348 - val_loss: 0.1322\n",
      "Epoch 22/50\n",
      "60000/60000 [==============================] - 4s 71us/step - loss: 0.1328 - val_loss: 0.1303\n",
      "Epoch 23/50\n",
      "60000/60000 [==============================] - 4s 70us/step - loss: 0.1308 - val_loss: 0.1283\n",
      "Epoch 24/50\n",
      "60000/60000 [==============================] - 4s 71us/step - loss: 0.1289 - val_loss: 0.1264\n",
      "Epoch 25/50\n",
      "60000/60000 [==============================] - 4s 71us/step - loss: 0.1271 - val_loss: 0.1247\n",
      "Epoch 26/50\n",
      "60000/60000 [==============================] - 4s 70us/step - loss: 0.1254 - val_loss: 0.1229\n",
      "Epoch 27/50\n",
      "60000/60000 [==============================] - 4s 68us/step - loss: 0.1237 - val_loss: 0.1213\n",
      "Epoch 28/50\n",
      "60000/60000 [==============================] - 4s 72us/step - loss: 0.1221 - val_loss: 0.1197\n",
      "Epoch 29/50\n",
      "60000/60000 [==============================] - 4s 73us/step - loss: 0.1206 - val_loss: 0.1183\n",
      "Epoch 30/50\n",
      "60000/60000 [==============================] - 4s 72us/step - loss: 0.1191 - val_loss: 0.1168\n",
      "Epoch 31/50\n",
      "60000/60000 [==============================] - 4s 71us/step - loss: 0.1177 - val_loss: 0.1155\n",
      "Epoch 32/50\n",
      "60000/60000 [==============================] - 4s 72us/step - loss: 0.1165 - val_loss: 0.1142\n",
      "Epoch 33/50\n",
      "60000/60000 [==============================] - 5s 75us/step - loss: 0.1152 - val_loss: 0.1130\n",
      "Epoch 34/50\n",
      "60000/60000 [==============================] - 4s 73us/step - loss: 0.1141 - val_loss: 0.1119\n",
      "Epoch 35/50\n",
      "60000/60000 [==============================] - 4s 73us/step - loss: 0.1131 - val_loss: 0.1110\n",
      "Epoch 36/50\n",
      "60000/60000 [==============================] - 4s 71us/step - loss: 0.1121 - val_loss: 0.1100\n",
      "Epoch 37/50\n",
      "60000/60000 [==============================] - 4s 70us/step - loss: 0.1112 - val_loss: 0.1091\n",
      "Epoch 38/50\n",
      "60000/60000 [==============================] - 4s 72us/step - loss: 0.1103 - val_loss: 0.1083\n",
      "Epoch 39/50\n",
      "60000/60000 [==============================] - 4s 72us/step - loss: 0.1096 - val_loss: 0.1076\n",
      "Epoch 40/50\n",
      "60000/60000 [==============================] - 4s 67us/step - loss: 0.1088 - val_loss: 0.1068\n",
      "Epoch 41/50\n",
      "60000/60000 [==============================] - 4s 71us/step - loss: 0.1082 - val_loss: 0.1062\n",
      "Epoch 42/50\n",
      "60000/60000 [==============================] - 4s 71us/step - loss: 0.1075 - val_loss: 0.1056\n",
      "Epoch 43/50\n",
      "60000/60000 [==============================] - 4s 68us/step - loss: 0.1070 - val_loss: 0.1050\n",
      "Epoch 44/50\n",
      "60000/60000 [==============================] - 4s 74us/step - loss: 0.1064 - val_loss: 0.1045\n",
      "Epoch 45/50\n",
      "60000/60000 [==============================] - 5s 82us/step - loss: 0.1059 - val_loss: 0.1040\n",
      "Epoch 46/50\n",
      "60000/60000 [==============================] - 5s 84us/step - loss: 0.1054 - val_loss: 0.1036\n",
      "Epoch 47/50\n",
      "60000/60000 [==============================] - 5s 79us/step - loss: 0.1050 - val_loss: 0.1031\n",
      "Epoch 48/50\n",
      "60000/60000 [==============================] - 5s 80us/step - loss: 0.1046 - val_loss: 0.1027\n",
      "Epoch 49/50\n",
      "60000/60000 [==============================] - 5s 81us/step - loss: 0.1042 - val_loss: 0.1024\n",
      "Epoch 50/50\n",
      "60000/60000 [==============================] - 5s 82us/step - loss: 0.1039 - val_loss: 0.1020\n"
     ]
    },
    {
     "data": {
      "text/plain": [
       "<keras.callbacks.History at 0x172a379ccf8>"
      ]
     },
     "execution_count": 21,
     "metadata": {},
     "output_type": "execute_result"
    }
   ],
   "source": [
    "autoencoder.fit(x_train, x_train,\n",
    "                epochs=50,\n",
    "                batch_size=256,\n",
    "                shuffle=True,\n",
    "                validation_data=(x_test, x_test))"
   ]
  },
  {
   "cell_type": "code",
   "execution_count": 22,
   "metadata": {
    "colab": {
     "autoexec": {
      "startup": false,
      "wait_interval": 0
     }
    },
    "colab_type": "code",
    "collapsed": true,
    "id": "42pEKisd-zRw"
   },
   "outputs": [],
   "source": [
    "# encode and decode some digits\n",
    "# note that we take them from the *test* set\n",
    "encoded_imgs = encoder.predict(x_test)\n",
    "decoded_imgs = decoder.predict(encoded_imgs)"
   ]
  },
  {
   "cell_type": "code",
   "execution_count": 23,
   "metadata": {
    "colab": {
     "autoexec": {
      "startup": false,
      "wait_interval": 0
     },
     "base_uri": "https://localhost:8080/",
     "height": 244,
     "output_extras": [
      {
       "item_id": 1
      }
     ]
    },
    "colab_type": "code",
    "executionInfo": {
     "elapsed": 2381,
     "status": "ok",
     "timestamp": 1518606907837,
     "user": {
      "displayName": "Sushil Shah",
      "photoUrl": "//lh4.googleusercontent.com/-Ktk_nB19OQ4/AAAAAAAAAAI/AAAAAAAAFyE/m_ujZFjPlsE/s50-c-k-no/photo.jpg",
      "userId": "106187235510358892083"
     },
     "user_tz": -330
    },
    "id": "NfMK8A1p-4pZ",
    "outputId": "fcdf9605-7fa5-48ea-d37d-fd12ec7fe63f"
   },
   "outputs": [
    {
     "data": {
      "image/png": "[encoded data removed]",
      "text/plain": [
       "<matplotlib.figure.Figure at 0x172a3d85710>"
      ]
     },
     "metadata": {},
     "output_type": "display_data"
    }
   ],
   "source": [
    "# use Matplotlib (don't ask)\n",
    "import matplotlib.pyplot as plt\n",
    "\n",
    "n = 10  # how many digits we will display\n",
    "plt.figure(figsize=(20, 4))\n",
    "for i in range(n):\n",
    "    # display original\n",
    "    ax = plt.subplot(2, n, i + 1)\n",
    "    plt.imshow(x_test[i].reshape(28, 28))\n",
    "    plt.gray()\n",
    "    ax.get_xaxis().set_visible(False)\n",
    "    ax.get_yaxis().set_visible(False)\n",
    "\n",
    "    # display reconstruction\n",
    "    ax = plt.subplot(2, n, i + 1 + n)\n",
    "    plt.imshow(decoded_imgs[i].reshape(28, 28))\n",
    "    plt.gray()\n",
    "    ax.get_xaxis().set_visible(False)\n",
    "    ax.get_yaxis().set_visible(False)\n",
    "plt.show()"
   ]
  },
  {
   "cell_type": "code",
   "execution_count": 25,
   "metadata": {
    "colab": {
     "autoexec": {
      "startup": false,
      "wait_interval": 0
     }
    },
    "colab_type": "code",
    "id": "19twpVgY-7Di"
   },
   "outputs": [
    {
     "data": {
      "text/plain": [
       "(10000, 32)"
      ]
     },
     "execution_count": 25,
     "metadata": {},
     "output_type": "execute_result"
    }
   ],
   "source": [
    "encoded_imgs.shape"
   ]
  },
  {
   "cell_type": "code",
   "execution_count": 26,
   "metadata": {
    "colab": {
     "autoexec": {
      "startup": false,
      "wait_interval": 0
     }
    },
    "colab_type": "code",
    "id": "pMwC5DoH-sr0"
   },
   "outputs": [
    {
     "data": {
      "text/plain": [
       "(10000, 784)"
      ]
     },
     "execution_count": 26,
     "metadata": {},
     "output_type": "execute_result"
    }
   ],
   "source": [
    "x_test.shape"
   ]
  },
  {
   "cell_type": "code",
   "execution_count": 27,
   "metadata": {
    "colab_type": "text",
    "id": "Ip1acWBg8rmJ"
   },
   "outputs": [
    {
     "data": {
      "text/plain": [
       "(10000, 784)"
      ]
     },
     "execution_count": 27,
     "metadata": {},
     "output_type": "execute_result"
    }
   ],
   "source": [
    "decoded_imgs.shape"
   ]
  },
  {
   "cell_type": "code",
   "execution_count": null,
   "metadata": {
    "collapsed": true
   },
   "outputs": [],
   "source": []
  }
 ],
 "metadata": {
  "colab": {
   "default_view": {},
   "name": "autoencoder.ipynb",
   "provenance": [],
   "version": "0.3.2",
   "views": {}
  },
  "kernelspec": {
   "display_name": "Python 3",
   "language": "python",
   "name": "python3"
  }
 },
 "nbformat": 4,
 "nbformat_minor": 1
}
