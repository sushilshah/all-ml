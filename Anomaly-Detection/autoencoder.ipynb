{
 "cells": [
  {
   "cell_type": "code",
   "execution_count": 1,
   "metadata": {},
   "outputs": [
    {
     "name": "stderr",
     "output_type": "stream",
     "text": [
      "C:\\Users\\sushil.shah\\AppData\\Local\\Continuum\\anaconda3\\lib\\site-packages\\h5py\\__init__.py:34: FutureWarning: Conversion of the second argument of issubdtype from `float` to `np.floating` is deprecated. In future, it will be treated as `np.float64 == np.dtype(float).type`.\n",
      "  from ._conv import register_converters as _register_converters\n",
      "Using TensorFlow backend.\n"
     ]
    }
   ],
   "source": [
    "from keras.layers import Input, Dense\n",
    "from keras.models import Model\n",
    "\n",
    "# this is the size of our encoded representations\n",
    "encoding_dim = 32  # 32 floats -> compression of factor 24.5, assuming the input is 784 floats\n",
    "\n",
    "# this is our input placeholder\n",
    "input_img = Input(shape=(784,))\n",
    "# \"encoded\" is the encoded representation of the input\n",
    "encoded = Dense(encoding_dim, activation='relu')(input_img)\n",
    "# \"decoded\" is the lossy reconstruction of the input\n",
    "decoded = Dense(784, activation='sigmoid')(encoded)\n",
    "\n",
    "# this model maps an input to its reconstruction\n",
    "autoencoder = Model(input_img, decoded)"
   ]
  },
  {
   "cell_type": "code",
   "execution_count": 2,
   "metadata": {
    "collapsed": true
   },
   "outputs": [],
   "source": [
    "# this model maps an input to its encoded representation\n",
    "encoder = Model(input_img, encoded)"
   ]
  },
  {
   "cell_type": "code",
   "execution_count": 3,
   "metadata": {
    "collapsed": true
   },
   "outputs": [],
   "source": [
    "# create a placeholder for an encoded (32-dimensional) input\n",
    "encoded_input = Input(shape=(encoding_dim,))\n",
    "# retrieve the last layer of the autoencoder model\n",
    "decoder_layer = autoencoder.layers[-1]\n",
    "# create the decoder model\n",
    "decoder = Model(encoded_input, decoder_layer(encoded_input))"
   ]
  },
  {
   "cell_type": "code",
   "execution_count": 4,
   "metadata": {
    "collapsed": true
   },
   "outputs": [],
   "source": [
    "autoencoder.compile(optimizer='adadelta', loss='binary_crossentropy')"
   ]
  },
  {
   "cell_type": "code",
   "execution_count": 5,
   "metadata": {
    "collapsed": true
   },
   "outputs": [],
   "source": [
    "from keras.datasets import mnist\n",
    "import numpy as np\n",
    "(x_train, _), (x_test, _) = mnist.load_data()"
   ]
  },
  {
   "cell_type": "code",
   "execution_count": 6,
   "metadata": {},
   "outputs": [
    {
     "name": "stdout",
     "output_type": "stream",
     "text": [
      "(60000, 784)\n",
      "(10000, 784)\n"
     ]
    }
   ],
   "source": [
    "x_train = x_train.astype('float32') / 255.\n",
    "x_test = x_test.astype('float32') / 255.\n",
    "x_train = x_train.reshape((len(x_train), np.prod(x_train.shape[1:])))\n",
    "x_test = x_test.reshape((len(x_test), np.prod(x_test.shape[1:])))\n",
    "print (x_train.shape)\n",
    "print (x_test.shape)"
   ]
  },
  {
   "cell_type": "code",
   "execution_count": 7,
   "metadata": {},
   "outputs": [
    {
     "name": "stdout",
     "output_type": "stream",
     "text": [
      "Train on 60000 samples, validate on 10000 samples\n",
      "Epoch 1/50\n",
      "60000/60000 [==============================] - 6s 92us/step - loss: 0.3600 - val_loss: 0.2713\n",
      "Epoch 2/50\n",
      "60000/60000 [==============================] - 4s 72us/step - loss: 0.2639 - val_loss: 0.2526\n",
      "Epoch 3/50\n",
      "60000/60000 [==============================] - 5s 82us/step - loss: 0.2417 - val_loss: 0.2287\n",
      "Epoch 4/50\n",
      "60000/60000 [==============================] - 5s 80us/step - loss: 0.2209 - val_loss: 0.2112\n",
      "Epoch 5/50\n",
      "60000/60000 [==============================] - 5s 88us/step - loss: 0.2067 - val_loss: 0.1998\n",
      "Epoch 6/50\n",
      "60000/60000 [==============================] - 6s 95us/step - loss: 0.1969 - val_loss: 0.1912\n",
      "Epoch 7/50\n",
      "60000/60000 [==============================] - 5s 86us/step - loss: 0.1887 - val_loss: 0.1837\n",
      "Epoch 8/50\n",
      "60000/60000 [==============================] - 5s 80us/step - loss: 0.1817 - val_loss: 0.1771\n",
      "Epoch 9/50\n",
      "60000/60000 [==============================] - 5s 89us/step - loss: 0.1756 - val_loss: 0.1715\n",
      "Epoch 10/50\n",
      "60000/60000 [==============================] - 6s 93us/step - loss: 0.1703 - val_loss: 0.1665\n",
      "Epoch 11/50\n",
      "60000/60000 [==============================] - 5s 86us/step - loss: 0.1654 - val_loss: 0.1619\n",
      "Epoch 12/50\n",
      "60000/60000 [==============================] - 5s 90us/step - loss: 0.1610 - val_loss: 0.1577\n",
      "Epoch 13/50\n",
      "60000/60000 [==============================] - 5s 85us/step - loss: 0.1569 - val_loss: 0.1536\n",
      "Epoch 14/50\n",
      "60000/60000 [==============================] - 5s 84us/step - loss: 0.1532 - val_loss: 0.1501\n",
      "Epoch 15/50\n",
      "60000/60000 [==============================] - 5s 83us/step - loss: 0.1498 - val_loss: 0.1468\n",
      "Epoch 16/50\n",
      "60000/60000 [==============================] - 5s 84us/step - loss: 0.1467 - val_loss: 0.1438\n",
      "Epoch 17/50\n",
      "60000/60000 [==============================] - 5s 83us/step - loss: 0.1438 - val_loss: 0.1410\n",
      "Epoch 18/50\n",
      "60000/60000 [==============================] - 5s 91us/step - loss: 0.1411 - val_loss: 0.1383\n",
      "Epoch 19/50\n",
      "60000/60000 [==============================] - 6s 92us/step - loss: 0.1385 - val_loss: 0.1357\n",
      "Epoch 20/50\n",
      "60000/60000 [==============================] - 6s 93us/step - loss: 0.1360 - val_loss: 0.1335\n",
      "Epoch 21/50\n",
      "60000/60000 [==============================] - 5s 90us/step - loss: 0.1337 - val_loss: 0.1311\n",
      "Epoch 22/50\n",
      "60000/60000 [==============================] - 6s 93us/step - loss: 0.1315 - val_loss: 0.1290\n",
      "Epoch 23/50\n",
      "60000/60000 [==============================] - 6s 98us/step - loss: 0.1294 - val_loss: 0.1268\n",
      "Epoch 24/50\n",
      "60000/60000 [==============================] - 5s 89us/step - loss: 0.1273 - val_loss: 0.1248\n",
      "Epoch 25/50\n",
      "60000/60000 [==============================] - 5s 84us/step - loss: 0.1254 - val_loss: 0.1230\n",
      "Epoch 26/50\n",
      "60000/60000 [==============================] - 5s 83us/step - loss: 0.1236 - val_loss: 0.1213\n",
      "Epoch 27/50\n",
      "60000/60000 [==============================] - 5s 85us/step - loss: 0.1219 - val_loss: 0.1195\n",
      "Epoch 28/50\n",
      "60000/60000 [==============================] - 5s 82us/step - loss: 0.1203 - val_loss: 0.1180\n",
      "Epoch 29/50\n",
      "60000/60000 [==============================] - 5s 90us/step - loss: 0.1188 - val_loss: 0.1165\n",
      "Epoch 30/50\n",
      "60000/60000 [==============================] - 5s 86us/step - loss: 0.1174 - val_loss: 0.1151\n",
      "Epoch 31/50\n",
      "60000/60000 [==============================] - 5s 88us/step - loss: 0.1161 - val_loss: 0.1138\n",
      "Epoch 32/50\n",
      "60000/60000 [==============================] - 5s 86us/step - loss: 0.1148 - val_loss: 0.1126\n",
      "Epoch 33/50\n",
      "60000/60000 [==============================] - 5s 85us/step - loss: 0.1137 - val_loss: 0.1115\n",
      "Epoch 34/50\n",
      "60000/60000 [==============================] - 5s 87us/step - loss: 0.1126 - val_loss: 0.1105\n",
      "Epoch 35/50\n",
      "60000/60000 [==============================] - 5s 84us/step - loss: 0.1116 - val_loss: 0.1095\n",
      "Epoch 36/50\n",
      "60000/60000 [==============================] - 5s 88us/step - loss: 0.1107 - val_loss: 0.1086\n",
      "Epoch 37/50\n",
      "60000/60000 [==============================] - 5s 85us/step - loss: 0.1098 - val_loss: 0.1078\n",
      "Epoch 38/50\n",
      "60000/60000 [==============================] - 5s 83us/step - loss: 0.1090 - val_loss: 0.1070\n",
      "Epoch 39/50\n",
      "60000/60000 [==============================] - 5s 78us/step - loss: 0.1083 - val_loss: 0.1063\n",
      "Epoch 40/50\n",
      "60000/60000 [==============================] - 5s 79us/step - loss: 0.1076 - val_loss: 0.1057\n",
      "Epoch 41/50\n",
      "60000/60000 [==============================] - 5s 76us/step - loss: 0.1070 - val_loss: 0.1051\n",
      "Epoch 42/50\n",
      "60000/60000 [==============================] - 4s 73us/step - loss: 0.1064 - val_loss: 0.1045\n",
      "Epoch 43/50\n",
      "60000/60000 [==============================] - 5s 80us/step - loss: 0.1058 - val_loss: 0.1040\n",
      "Epoch 44/50\n",
      "60000/60000 [==============================] - 4s 75us/step - loss: 0.1053 - val_loss: 0.1035\n",
      "Epoch 45/50\n",
      "60000/60000 [==============================] - 4s 66us/step - loss: 0.1049 - val_loss: 0.1030\n",
      "Epoch 46/50\n",
      "60000/60000 [==============================] - 5s 78us/step - loss: 0.1044 - val_loss: 0.1026\n",
      "Epoch 47/50\n",
      "60000/60000 [==============================] - 4s 72us/step - loss: 0.1040 - val_loss: 0.1022\n",
      "Epoch 48/50\n",
      "60000/60000 [==============================] - 5s 78us/step - loss: 0.1036 - val_loss: 0.1018\n",
      "Epoch 49/50\n",
      "60000/60000 [==============================] - 4s 71us/step - loss: 0.1032 - val_loss: 0.1014\n",
      "Epoch 50/50\n",
      "60000/60000 [==============================] - 4s 73us/step - loss: 0.1029 - val_loss: 0.1011\n"
     ]
    },
    {
     "data": {
      "text/plain": [
       "<keras.callbacks.History at 0x1b365899b70>"
      ]
     },
     "execution_count": 7,
     "metadata": {},
     "output_type": "execute_result"
    }
   ],
   "source": [
    "autoencoder.fit(x_train, x_train,\n",
    "                epochs=50,\n",
    "                batch_size=256,\n",
    "                shuffle=True,\n",
    "                validation_data=(x_test, x_test))"
   ]
  },
  {
   "cell_type": "code",
   "execution_count": 8,
   "metadata": {
    "collapsed": true
   },
   "outputs": [],
   "source": [
    "# encode and decode some digits\n",
    "# note that we take them from the *test* set\n",
    "encoded_imgs = encoder.predict(x_test)\n",
    "decoded_imgs = decoder.predict(encoded_imgs)"
   ]
  },
  {
   "cell_type": "code",
   "execution_count": 9,
   "metadata": {},
   "outputs": [
    {
     "data": {
      "image/png": "[encoded data removed]",
      "text/plain": [
       "<matplotlib.figure.Figure at 0x1b365c9aa58>"
      ]
     },
     "metadata": {},
     "output_type": "display_data"
    }
   ],
   "source": [
    "# use Matplotlib (don't ask)\n",
    "import matplotlib.pyplot as plt\n",
    "\n",
    "n = 10  # how many digits we will display\n",
    "plt.figure(figsize=(20, 4))\n",
    "for i in range(n):\n",
    "    # display original\n",
    "    ax = plt.subplot(2, n, i + 1)\n",
    "    plt.imshow(x_test[i].reshape(28, 28))\n",
    "    plt.gray()\n",
    "    ax.get_xaxis().set_visible(False)\n",
    "    ax.get_yaxis().set_visible(False)\n",
    "\n",
    "    # display reconstruction\n",
    "    ax = plt.subplot(2, n, i + 1 + n)\n",
    "    plt.imshow(decoded_imgs[i].reshape(28, 28))\n",
    "    plt.gray()\n",
    "    ax.get_xaxis().set_visible(False)\n",
    "    ax.get_yaxis().set_visible(False)\n",
    "plt.show()"
   ]
  },
  {
   "cell_type": "code",
   "execution_count": 11,
   "metadata": {},
   "outputs": [
    {
     "data": {
      "text/plain": [
       "<tf.Tensor 'input_1:0' shape=(?, 784) dtype=float32>"
      ]
     },
     "execution_count": 11,
     "metadata": {},
     "output_type": "execute_result"
    }
   ],
   "source": [
    "input_img"
   ]
  },
  {
   "cell_type": "code",
   "execution_count": 13,
   "metadata": {},
   "outputs": [
    {
     "data": {
      "text/plain": [
       "(60000, 784)"
      ]
     },
     "execution_count": 13,
     "metadata": {},
     "output_type": "execute_result"
    }
   ],
   "source": [
    "x_train.shape"
   ]
  },
  {
   "cell_type": "code",
   "execution_count": null,
   "metadata": {
    "collapsed": true
   },
   "outputs": [],
   "source": []
  }
 ],
 "metadata": {
  "kernelspec": {
   "display_name": "Python 3",
   "language": "python",
   "name": "python3"
  },
  "language_info": {
   "codemirror_mode": {
    "name": "ipython",
    "version": 3
   },
   "file_extension": ".py",
   "mimetype": "text/x-python",
   "name": "python",
   "nbconvert_exporter": "python",
   "pygments_lexer": "ipython3",
   "version": "3.6.3"
  }
 },
 "nbformat": 4,
 "nbformat_minor": 2
}
