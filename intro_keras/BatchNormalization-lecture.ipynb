{
 "cells": [
  {
   "cell_type": "markdown",
   "metadata": {},
   "source": [
    "https://uwaterloo.ca/data-analytics/sites/ca.data-analytics/files/uploads/files/sep28_dl.pdf\n",
    "https://uwaterloo.ca/data-analytics/teaching/deep-learning-2017"
   ]
  },
  {
   "cell_type": "code",
   "execution_count": 6,
   "metadata": {},
   "outputs": [],
   "source": [
    "import numpy as np\n",
    "import keras\n",
    "from keras.models import Sequential\n",
    "from keras.layers import Dense, Dropout, Activation, Flatten, Input\n",
    "from keras.utils import np_utils\n",
    "\n",
    "#Other types of layers\n",
    "from keras.layers import LSTM\n",
    "from keras.layers import Conv1D, Conv2D, Conv3D, MaxPooling2D\n",
    "\n",
    "from keras.layers.normalization import BatchNormalization\n",
    "\n",
    "import matplotlib.pyplot as plt\n",
    "%matplotlib inline\n",
    "\n",
    "np.random.seed(2012)"
   ]
  },
  {
   "cell_type": "code",
   "execution_count": 10,
   "metadata": {
    "collapsed": true
   },
   "outputs": [],
   "source": [
    "#Model\n",
    "#Form 1\n",
    "model = Sequential()\n",
    "model.add(Dense(512, activation='relu', use_bias=True, input_shape=(784, )))\n",
    "model.add(Dense(128, activation='relu', use_bias=True, ))\n",
    "# *** Drop out Layer****\n",
    "model.add(Dropout(0.2))\n",
    "model.add(Dense(10, activation='softmax', use_bias=True))"
   ]
  },
  {
   "cell_type": "code",
   "execution_count": 8,
   "metadata": {},
   "outputs": [],
   "source": [
    "from keras.models import Model\n",
    "#Model\n",
    "#Form 2\n",
    "X_inp = Input(shape=(784, ))\n",
    "h1 = Dense(512, activation='relu', use_bias=True)(X_inp)\n",
    "h2 = Dense(128, activation='relu', use_bias=True)(h1)\n",
    "h3 = Dense(10, activation='softmax', use_bias=True)(h2)\n",
    "\n",
    "model = Model(inputs=X_inp, outputs=h3)"
   ]
  },
  {
   "cell_type": "code",
   "execution_count": null,
   "metadata": {
    "collapsed": true
   },
   "outputs": [],
   "source": [
    "# model.add(Dense(128, activation='relu', use_bias=True))\n",
    "# Batch Normalization Layer\n",
    "model = Sequential()\n",
    "model.add(Dense(64, inputut_dim=14))\n",
    "#Batch Normalization\n",
    "model.add(BatchNormalization())\n",
    "model.add(Activation('tanh'))\n",
    "model.add(Dropout(0.5))"
   ]
  }
 ],
 "metadata": {
  "kernelspec": {
   "display_name": "Python 3",
   "language": "python",
   "name": "python3"
  },
  "language_info": {
   "codemirror_mode": {
    "name": "ipython",
    "version": 3
   },
   "file_extension": ".py",
   "mimetype": "text/x-python",
   "name": "python",
   "nbconvert_exporter": "python",
   "pygments_lexer": "ipython3",
   "version": "3.6.3"
  }
 },
 "nbformat": 4,
 "nbformat_minor": 2
}
