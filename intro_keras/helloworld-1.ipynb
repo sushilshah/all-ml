{
 "cells": [
  {
   "cell_type": "markdown",
   "metadata": {},
   "source": [
    "# OM"
   ]
  },
  {
   "cell_type": "code",
   "execution_count": 81,
   "metadata": {},
   "outputs": [],
   "source": [
    "# from keras.layers import Dense\n",
    "# import numpy"
   ]
  },
  {
   "cell_type": "code",
   "execution_count": 82,
   "metadata": {},
   "outputs": [],
   "source": [
    "# # load pima indians dataset\n",
    "# dataset = numpy.loadtxt(\"data/pima-indians-diabetes.data.txt\", delimiter=\",\")\n",
    "# # split into input (X) and output (Y) variables\n",
    "# X = dataset[:,0:8]\n",
    "# Y = dataset[:,8]"
   ]
  },
  {
   "cell_type": "code",
   "execution_count": 83,
   "metadata": {},
   "outputs": [],
   "source": [
    "# # create model\n",
    "# model = Sequential()\n",
    "# model.add(Dense(12, input_dim=8, activation='relu'))\n",
    "# model.add(Dense(8, activation='relu'))\n",
    "# model.add(Dense(1, activation='sigmoid'))"
   ]
  },
  {
   "cell_type": "code",
   "execution_count": 84,
   "metadata": {},
   "outputs": [],
   "source": [
    "# # Create your first MLP in Keras\n",
    "# from keras.models import Sequential\n",
    "# from keras.layers import Dense\n",
    "# import numpy\n",
    "# # fix random seed for reproducibility\n",
    "# numpy.random.seed(7)\n",
    "# # load pima indians dataset\n",
    "# # dataset = numpy.loadtxt(\"pima-indians-diabetes.csv\", delimiter=\",\")\n",
    "# # split into input (X) and output (Y) variables\n",
    "# X = dataset[:,0:8]\n",
    "# Y = dataset[:,8]\n",
    "# # create model\n",
    "# model = Sequential()\n",
    "# model.add(Dense(12, input_dim=8, activation='relu'))\n",
    "# model.add(Dense(8, activation='relu'))\n",
    "# model.add(Dense(1, activation='sigmoid'))\n",
    "# # Compile model\n",
    "# model.compile(loss='binary_crossentropy', optimizer='adam', metrics=['accuracy'])\n",
    "# # Fit the model\n",
    "# model.fit(X, Y, epochs=150, batch_size=10)\n",
    "# # evaluate the model\n",
    "# scores = model.evaluate(X, Y)\n",
    "# print(\"\\n%s: %.2f%%\" % (model.metrics_names[1], scores[1]*100))"
   ]
  },
  {
   "cell_type": "markdown",
   "metadata": {},
   "source": [
    "~~~~~~~~~~~~~~~"
   ]
  },
  {
   "cell_type": "code",
   "execution_count": 24,
   "metadata": {},
   "outputs": [],
   "source": [
    "import numpy as np\n",
    "import keras\n",
    "from keras.models import Sequential\n",
    "from keras.layers import Dense, Dropout, Activation, Flatten, InputLayer\n",
    "from keras.utils import np_utils\n",
    "\n",
    "from keras.layers.normalization import BatchNormalization\n",
    "\n",
    "import matplotlib.pyplot as plt\n",
    "%matplotlib inline\n",
    "\n",
    "np.random.seed(2012)"
   ]
  },
  {
   "cell_type": "code",
   "execution_count": 2,
   "metadata": {},
   "outputs": [
    {
     "name": "stdout",
     "output_type": "stream",
     "text": [
      "(60000, 28, 28)\n"
     ]
    }
   ],
   "source": [
    "from keras.datasets import mnist\n",
    "(X_train, Y_train), (X_test, Y_test) = mnist.load_data()\n",
    "print(X_train.shape)"
   ]
  },
  {
   "cell_type": "code",
   "execution_count": 3,
   "metadata": {},
   "outputs": [
    {
     "name": "stdout",
     "output_type": "stream",
     "text": [
      "(60000, 28, 28)\n",
      "min 0 max :  255\n"
     ]
    }
   ],
   "source": [
    "print(X_train.shape)\n",
    "print('min' , np.min(X_test), 'max : ', np.max(X_test))"
   ]
  },
  {
   "cell_type": "code",
   "execution_count": 4,
   "metadata": {},
   "outputs": [
    {
     "data": {
      "image/png": "[encoded data removed]",
      "text/plain": [
       "<matplotlib.figure.Figure at 0x195cd2cef60>"
      ]
     },
     "metadata": {},
     "output_type": "display_data"
    }
   ],
   "source": [
    "randon_idx = np.random.randint(1000)\n",
    "plt.imshow(X_test[randon_idx, :, :], cmap='Greys_r' )\n",
    "plt.show()"
   ]
  },
  {
   "cell_type": "code",
   "execution_count": 5,
   "metadata": {},
   "outputs": [
    {
     "name": "stdout",
     "output_type": "stream",
     "text": [
      "(10000, 784)\n",
      "(60000, 784)\n"
     ]
    }
   ],
   "source": [
    "#reshape\n",
    "trainX =  np.reshape(X_train, (X_train.shape[0], X_train.shape[1] * X_train.shape[2]))\n",
    "testX =  np.reshape(X_test, (X_test.shape[0], X_test.shape[1] * X_test.shape[2]))\n",
    "# testX =  np.reshape(X_test, [X_test.shape[0]], (X_test.shape[1] * X_test.shape[2]))\n",
    "print(testX.shape)\n",
    "print(trainX.shape)\n"
   ]
  },
  {
   "cell_type": "code",
   "execution_count": 6,
   "metadata": {},
   "outputs": [
    {
     "name": "stdout",
     "output_type": "stream",
     "text": [
      "[5 0 4 1 9 2 1 3 1 4]\n",
      "(10000,)\n",
      "(60000, 28, 28)\n"
     ]
    }
   ],
   "source": [
    "print(Y_train[0:10])\n",
    "print(Y_test.shape)\n",
    "print(X_train.shape)"
   ]
  },
  {
   "cell_type": "code",
   "execution_count": 7,
   "metadata": {},
   "outputs": [
    {
     "name": "stdout",
     "output_type": "stream",
     "text": [
      "(10000, 10)\n",
      "(60000, 10)\n"
     ]
    }
   ],
   "source": [
    "#Convert One Hot Encoding\n",
    "Y_test = np_utils.to_categorical(Y_test,  10)\n",
    "Y_train = np_utils.to_categorical(Y_train,  10)\n",
    "print(Y_test.shape)\n",
    "print(Y_train.shape)\n"
   ]
  },
  {
   "cell_type": "code",
   "execution_count": 8,
   "metadata": {},
   "outputs": [],
   "source": [
    "# print(Y_test[0:10, :])\n",
    "# # print(X_train.shape)"
   ]
  },
  {
   "cell_type": "code",
   "execution_count": 9,
   "metadata": {
    "collapsed": true
   },
   "outputs": [],
   "source": [
    "#Model\n",
    "model = Sequential()\n",
    "model.add(Dense(512, activation='relu', use_bias=True, input_shape=(784, )))\n",
    "model.add(Dense(128, activation='relu', use_bias=True, ))\n",
    "model.add(Dense(10, activation='softmax', use_bias=True))"
   ]
  },
  {
   "cell_type": "code",
   "execution_count": 18,
   "metadata": {},
   "outputs": [
    {
     "name": "stdout",
     "output_type": "stream",
     "text": [
      "Epoch 1/10\n",
      "60000/60000 [==============================] - 5s 91us/step - loss: 0.9048 - acc: 0.9369\n",
      "Epoch 2/10\n",
      "60000/60000 [==============================] - 5s 84us/step - loss: 0.6832 - acc: 0.9460\n",
      "Epoch 3/10\n",
      "60000/60000 [==============================] - 5s 86us/step - loss: 0.5507 - acc: 0.9483\n",
      "Epoch 4/10\n",
      "60000/60000 [==============================] - 5s 85us/step - loss: 0.3378 - acc: 0.9632\n",
      "Epoch 5/10\n",
      "60000/60000 [==============================] - 5s 86us/step - loss: 0.2300 - acc: 0.9734\n",
      "Epoch 6/10\n",
      "60000/60000 [==============================] - 5s 84us/step - loss: 0.2111 - acc: 0.9753\n",
      "Epoch 7/10\n",
      "60000/60000 [==============================] - 5s 85us/step - loss: 0.2003 - acc: 0.9767\n",
      "Epoch 8/10\n",
      "60000/60000 [==============================] - 5s 86us/step - loss: 0.1951 - acc: 0.9772\n",
      "Epoch 9/10\n",
      "60000/60000 [==============================] - 5s 86us/step - loss: 0.1893 - acc: 0.9782\n",
      "Epoch 10/10\n",
      "60000/60000 [==============================] - 5s 90us/step - loss: 0.1858 - acc: 0.9789\n",
      "10000/10000 [==============================] - 1s 103us/step\n",
      "\n",
      "acc: 97.51%\n"
     ]
    }
   ],
   "source": [
    "# Compile model\n",
    "model.compile(loss='binary_crossentropy', optimizer='adam', metrics=['accuracy'])\n",
    "# Fit the model\n",
    "# history = model.fit(trainX, Y_train, epochs=150, batch_size=10)\n",
    "history = model.fit(trainX, Y_train, epochs=10, batch_size=1000)\n",
    "# evaluate the model\n",
    "scores = model.evaluate(testX, Y_test)\n",
    "print(\"\\n%s: %.2f%%\" % (model.metrics_names[1], scores[1]*100))"
   ]
  },
  {
   "cell_type": "code",
   "execution_count": 19,
   "metadata": {},
   "outputs": [
    {
     "name": "stdout",
     "output_type": "stream",
     "text": [
      "dict_keys(['loss', 'acc'])\n",
      "{'loss': [0.9047759552796681, 0.6832387785116831, 0.5506656795740128, 0.33779004390041034, 0.2299584299325943, 0.21114707589149476, 0.20026489992936453, 0.19507571707169216, 0.18925246670842172, 0.1857842266559601], 'acc': [0.9369073152542114, 0.9460205515225728, 0.9483155240615209, 0.9632337043682734, 0.9734235992034276, 0.9752969115972518, 0.9766985505819321, 0.9771952191988628, 0.9782251964012781, 0.9788935244083404]}\n"
     ]
    }
   ],
   "source": [
    "print(history.history.keys())\n",
    "print(history.history)"
   ]
  },
  {
   "cell_type": "code",
   "execution_count": 23,
   "metadata": {},
   "outputs": [
    {
     "data": {
      "image/png": "[encoded data removed]",
      "text/plain": [
       "<matplotlib.figure.Figure at 0x195d94aa9e8>"
      ]
     },
     "metadata": {},
     "output_type": "display_data"
    },
    {
     "data": {
      "image/png": "[encoded data removed]",
      "text/plain": [
       "<matplotlib.figure.Figure at 0x195da54b278>"
      ]
     },
     "metadata": {},
     "output_type": "display_data"
    }
   ],
   "source": [
    "#  \"Accuracy\"\n",
    "plt.plot(history.history['acc'])\n",
    "# plt.plot(history.history['val_acc'])\n",
    "plt.title('model accuracy')\n",
    "plt.ylabel('accuracy')\n",
    "plt.xlabel('epoch')\n",
    "plt.legend(['train', 'validation'], loc='upper left')\n",
    "plt.show()\n",
    "\n",
    "# \"Loss\"\n",
    "plt.plot(history.history['loss'])\n",
    "# plt.plot(history.history['val_loss'])\n",
    "plt.title('model loss')\n",
    "plt.ylabel('loss')\n",
    "plt.xlabel('epoch')\n",
    "plt.legend(['train', 'validation'], loc='upper left')\n",
    "plt.show()"
   ]
  },
  {
   "cell_type": "code",
   "execution_count": 16,
   "metadata": {},
   "outputs": [
    {
     "data": {
      "text/plain": [
       "['loss', 'acc']"
      ]
     },
     "execution_count": 16,
     "metadata": {},
     "output_type": "execute_result"
    }
   ],
   "source": [
    "model.test_on_batch(testX, Y_test)\n",
    "model.metrics_names"
   ]
  },
  {
   "cell_type": "code",
   "execution_count": 17,
   "metadata": {},
   "outputs": [
    {
     "data": {
      "text/plain": [
       "{'acc': [0.8976010253032048], 'loss': [1.5142953157424928]}"
      ]
     },
     "execution_count": 17,
     "metadata": {},
     "output_type": "execute_result"
    }
   ],
   "source": [
    "history.history"
   ]
  },
  {
   "cell_type": "code",
   "execution_count": 25,
   "metadata": {
    "collapsed": true
   },
   "outputs": [],
   "source": [
    "#Model 2\n",
    "model = Sequential()\n",
    "model.add(Dense(512, activation='relu', use_bias=True, input_shape=(784, )))\n",
    "model.add(BatchNormalization())\n",
    "model.add(Dropout(0.2))\n",
    "model.add(Dense(128, activation='relu', use_bias=True, ))\n",
    "model.add(BatchNormalization())\n",
    "model.add(Dropout(0.2))\n",
    "model.add(Dense(10, activation='softmax', use_bias=True))"
   ]
  },
  {
   "cell_type": "code",
   "execution_count": 26,
   "metadata": {},
   "outputs": [
    {
     "name": "stdout",
     "output_type": "stream",
     "text": [
      "Epoch 1/10\n",
      "60000/60000 [==============================] - 9s 158us/step - loss: 0.0645 - acc: 0.9783\n",
      "Epoch 2/10\n",
      "60000/60000 [==============================] - 8s 130us/step - loss: 0.0256 - acc: 0.9916\n",
      "Epoch 3/10\n",
      "60000/60000 [==============================] - 8s 134us/step - loss: 0.0181 - acc: 0.9941\n",
      "Epoch 4/10\n",
      "60000/60000 [==============================] - 8s 132us/step - loss: 0.0135 - acc: 0.9956\n",
      "Epoch 5/10\n",
      "60000/60000 [==============================] - 8s 139us/step - loss: 0.0106 - acc: 0.9965\n",
      "Epoch 6/10\n",
      "60000/60000 [==============================] - 8s 130us/step - loss: 0.0089 - acc: 0.9970\n",
      "Epoch 7/10\n",
      "60000/60000 [==============================] - 8s 133us/step - loss: 0.0072 - acc: 0.9976\n",
      "Epoch 8/10\n",
      "60000/60000 [==============================] - 8s 140us/step - loss: 0.0061 - acc: 0.9980\n",
      "Epoch 9/10\n",
      "60000/60000 [==============================] - 8s 133us/step - loss: 0.0052 - acc: 0.9984\n",
      "Epoch 10/10\n",
      "60000/60000 [==============================] - 8s 133us/step - loss: 0.0048 - acc: 0.9984\n",
      "10000/10000 [==============================] - 1s 149us/step\n",
      "\n",
      "acc: 99.65%\n"
     ]
    }
   ],
   "source": [
    "# Compile model\n",
    "model.compile(loss='binary_crossentropy', optimizer='adam', metrics=['accuracy'])\n",
    "# Fit the model\n",
    "# history = model.fit(trainX, Y_train, epochs=150, batch_size=10)\n",
    "history2 = model.fit(trainX, Y_train, epochs=10, batch_size=1000)\n",
    "# evaluate the model\n",
    "scores = model.evaluate(testX, Y_test)\n",
    "print(\"\\n%s: %.2f%%\" % (model.metrics_names[1], scores[1]*100))"
   ]
  },
  {
   "cell_type": "code",
   "execution_count": 30,
   "metadata": {},
   "outputs": [
    {
     "data": {
      "image/png": "[encoded data removed]",
      "text/plain": [
       "<matplotlib.figure.Figure at 0x195da50c828>"
      ]
     },
     "metadata": {},
     "output_type": "display_data"
    }
   ],
   "source": [
    "#  \"Accuracy\"\n",
    "plt.plot(history.history['acc'])\n",
    "plt.plot(history2.history['acc'])\n",
    "# plt.plot(history.history['val_acc'])\n",
    "plt.title('model accuracy')\n",
    "plt.ylabel('accuracy')\n",
    "plt.xlabel('epoch')\n",
    "plt.legend(['Without BN', 'With BN and dropout'], loc='upper left')\n",
    "plt.show()"
   ]
  },
  {
   "cell_type": "code",
   "execution_count": null,
   "metadata": {
    "collapsed": true
   },
   "outputs": [],
   "source": []
  }
 ],
 "metadata": {
  "kernelspec": {
   "display_name": "Python 3",
   "language": "python",
   "name": "python3"
  },
  "language_info": {
   "codemirror_mode": {
    "name": "ipython",
    "version": 3
   },
   "file_extension": ".py",
   "mimetype": "text/x-python",
   "name": "python",
   "nbconvert_exporter": "python",
   "pygments_lexer": "ipython3",
   "version": "3.6.3"
  }
 },
 "nbformat": 4,
 "nbformat_minor": 2
}
