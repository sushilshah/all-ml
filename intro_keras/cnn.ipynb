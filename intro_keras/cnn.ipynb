{
 "cells": [
  {
   "cell_type": "markdown",
   "metadata": {
    "colab_type": "text",
    "id": "-xOrW0NcbqZ2"
   },
   "source": [
    "# From the lecture"
   ]
  },
  {
   "cell_type": "code",
   "execution_count": 1,
   "metadata": {
    "colab": {
     "autoexec": {
      "startup": false,
      "wait_interval": 0
     },
     "base_uri": "https://localhost:8080/",
     "height": 34,
     "output_extras": [
      {
       "item_id": 1
      }
     ]
    },
    "colab_type": "code",
    "executionInfo": {
     "elapsed": 1729,
     "status": "ok",
     "timestamp": 1519745007858,
     "user": {
      "displayName": "Sushil Shah",
      "photoUrl": "//lh4.googleusercontent.com/-Ktk_nB19OQ4/AAAAAAAAAAI/AAAAAAAAFyE/m_ujZFjPlsE/s50-c-k-no/photo.jpg",
      "userId": "106187235510358892083"
     },
     "user_tz": -330
    },
    "id": "srKS5ZAPaDbh",
    "outputId": "35e3b41b-678f-4c21-a7b4-767dbe2a3ecd"
   },
   "outputs": [
    {
     "name": "stderr",
     "output_type": "stream",
     "text": [
      "C:\\Users\\sushil.shah\\AppData\\Local\\Continuum\\anaconda3\\lib\\site-packages\\h5py\\__init__.py:34: FutureWarning: Conversion of the second argument of issubdtype from `float` to `np.floating` is deprecated. In future, it will be treated as `np.float64 == np.dtype(float).type`.\n",
      "  from ._conv import register_converters as _register_converters\n",
      "Using TensorFlow backend.\n"
     ]
    }
   ],
   "source": [
    "import numpy as np\n",
    "import keras\n",
    "from keras.models import Sequential\n",
    "from keras.layers import Dense, Dropout, Activation, Flatten, InputLayer\n",
    "from keras.utils import np_utils\n",
    "from keras.layers import Conv2D, MaxPooling2D\n",
    "\n",
    "\n",
    "from keras.preprocessing.image import ImageDataGenerator\n",
    "\n",
    "from keras.layers.normalization import BatchNormalization\n",
    "\n",
    "import matplotlib.pyplot as plt\n",
    "%matplotlib inline\n",
    "\n",
    "from IPython.display import clear_output\n",
    "\n",
    "np.random.seed(2012)"
   ]
  },
  {
   "cell_type": "markdown",
   "metadata": {
    "colab_type": "text",
    "id": "Dhg1WolMb2n3"
   },
   "source": [
    "### Set some parameters"
   ]
  },
  {
   "cell_type": "code",
   "execution_count": 13,
   "metadata": {
    "colab": {
     "autoexec": {
      "startup": false,
      "wait_interval": 0
     }
    },
    "colab_type": "code",
    "collapsed": true,
    "id": "flbpi1XyaIBc"
   },
   "outputs": [],
   "source": [
    "batch_size = 256\n",
    "num_classes = 10\n",
    "# epochs = 100\n",
    "epochs = 10"
   ]
  },
  {
   "cell_type": "markdown",
   "metadata": {
    "colab_type": "text",
    "id": "1zRWXxE_b8rv"
   },
   "source": [
    "### Step 2) Load prepare data¶"
   ]
  },
  {
   "cell_type": "code",
   "execution_count": 4,
   "metadata": {
    "colab": {
     "autoexec": {
      "startup": false,
      "wait_interval": 0
     },
     "base_uri": "https://localhost:8080/",
     "height": 51,
     "output_extras": [
      {
       "item_id": 1
      }
     ]
    },
    "colab_type": "code",
    "executionInfo": {
     "elapsed": 1153,
     "status": "ok",
     "timestamp": 1519745034587,
     "user": {
      "displayName": "Sushil Shah",
      "photoUrl": "//lh4.googleusercontent.com/-Ktk_nB19OQ4/AAAAAAAAAAI/AAAAAAAAFyE/m_ujZFjPlsE/s50-c-k-no/photo.jpg",
      "userId": "106187235510358892083"
     },
     "user_tz": -330
    },
    "id": "NLGDvYtKaPGE",
    "outputId": "de250f36-ef00-4ede-ede5-a622a3c8d60a"
   },
   "outputs": [
    {
     "name": "stdout",
     "output_type": "stream",
     "text": [
      "X_train shape :  (50000, 32, 32, 3)\n",
      "50000  train samples\n"
     ]
    }
   ],
   "source": [
    "from keras.datasets import cifar10\n",
    "\n",
    "(x_train, y_train), (x_test, y_test) = cifar10.load_data()\n",
    "print('X_train shape : ', x_train.shape)\n",
    "print(x_train.shape[0], ' train samples')\n",
    "\n"
   ]
  },
  {
   "cell_type": "markdown",
   "metadata": {
    "colab_type": "text",
    "id": "U0HCVwlyb_Yq"
   },
   "source": [
    "### Prepare Data"
   ]
  },
  {
   "cell_type": "code",
   "execution_count": 5,
   "metadata": {
    "colab": {
     "autoexec": {
      "startup": false,
      "wait_interval": 0
     }
    },
    "colab_type": "code",
    "collapsed": true,
    "id": "GwdmiuusaR3U"
   },
   "outputs": [],
   "source": [
    "x_train = x_train.astype('float32')\n",
    "x_test = x_test.astype('float32')\n",
    "x_train /= 255\n",
    "x_test /= 255\n"
   ]
  },
  {
   "cell_type": "code",
   "execution_count": 5,
   "metadata": {
    "colab": {
     "autoexec": {
      "startup": false,
      "wait_interval": 0
     },
     "base_uri": "https://localhost:8080/",
     "height": 248,
     "output_extras": [
      {
       "item_id": 1
      }
     ]
    },
    "colab_type": "code",
    "executionInfo": {
     "elapsed": 6660,
     "status": "ok",
     "timestamp": 1519745047865,
     "user": {
      "displayName": "Sushil Shah",
      "photoUrl": "//lh4.googleusercontent.com/-Ktk_nB19OQ4/AAAAAAAAAAI/AAAAAAAAFyE/m_ujZFjPlsE/s50-c-k-no/photo.jpg",
      "userId": "106187235510358892083"
     },
     "user_tz": -330
    },
    "id": "jlWNAv-iaWCK",
    "outputId": "787f77b1-dec3-4b47-b573-f49caf12de52"
   },
   "outputs": [
    {
     "data": {
      "image/png": "[encoded data removed]",
      "text/plain": [
       "<matplotlib.figure.Figure at 0x7f1c18597400>"
      ]
     },
     "metadata": {
      "tags": []
     },
     "output_type": "display_data"
    }
   ],
   "source": [
    "import matplotlib.pyplot  as plt\n",
    "\n",
    "%matplotlib inline\n",
    "\n",
    "plt.figure()\n",
    "fig_size = [20, 20]\n",
    "\n",
    "plt.rcParams[\"figure.figsize\"] = fig_size\n",
    "\n",
    "idx = 0\n",
    "\n",
    "for idx in range(1, 100):\n",
    "    ax = plt.subplot(10, 10, idx)\n",
    "    img = x_train[idx, :, :, :]\n",
    "    ax.get_xaxis().set_visible(False)\n",
    "    ax.get_yaxis().set_visible(False)\n",
    "  \n",
    "    plt.imshow(img, cmap=\"Greys_r\")\n",
    "plt.show()\n",
    "  "
   ]
  },
  {
   "cell_type": "code",
   "execution_count": 7,
   "metadata": {},
   "outputs": [],
   "source": [
    "# img = x_train[1, :, :, :]\n",
    "# plt.imshow(img, cmap=\"Greys_r\")\n",
    "# plt.show()"
   ]
  },
  {
   "cell_type": "markdown",
   "metadata": {
    "colab_type": "text",
    "id": "YE6Gm-m7cN-f"
   },
   "source": [
    "### Pre process class labels"
   ]
  },
  {
   "cell_type": "code",
   "execution_count": 8,
   "metadata": {
    "colab": {
     "autoexec": {
      "startup": false,
      "wait_interval": 0
     },
     "base_uri": "https://localhost:8080/",
     "height": 51,
     "output_extras": [
      {
       "item_id": 1
      }
     ]
    },
    "colab_type": "code",
    "executionInfo": {
     "elapsed": 1133,
     "status": "ok",
     "timestamp": 1519745053633,
     "user": {
      "displayName": "Sushil Shah",
      "photoUrl": "//lh4.googleusercontent.com/-Ktk_nB19OQ4/AAAAAAAAAAI/AAAAAAAAFyE/m_ujZFjPlsE/s50-c-k-no/photo.jpg",
      "userId": "106187235510358892083"
     },
     "user_tz": -330
    },
    "id": "QrUjsl1jcQQv",
    "outputId": "1c670b4a-c107-4c06-dcce-f54a37d2e9c7"
   },
   "outputs": [
    {
     "name": "stdout",
     "output_type": "stream",
     "text": [
      "(10000, 10)\n",
      "(50000, 10)\n"
     ]
    }
   ],
   "source": [
    "#Convert One Hot Encoding\n",
    "y_test = np_utils.to_categorical(y_test,  num_classes)\n",
    "y_train = np_utils.to_categorical(y_train,  num_classes)\n",
    "print(y_test.shape)\n",
    "print(y_train.shape)"
   ]
  },
  {
   "cell_type": "markdown",
   "metadata": {
    "colab_type": "text",
    "id": "3KHlv9ZBctTX"
   },
   "source": [
    "### Data Augmentation"
   ]
  },
  {
   "cell_type": "code",
   "execution_count": 9,
   "metadata": {
    "colab": {
     "autoexec": {
      "startup": false,
      "wait_interval": 0
     }
    },
    "colab_type": "code",
    "collapsed": true,
    "id": "GZAYjiWBcv-1"
   },
   "outputs": [],
   "source": [
    "datagen = ImageDataGenerator(\n",
    "    featurewise_center=False, #set input mean to 0 over dataset\n",
    "    samplewise_center=False, #set each sample mean to 0\n",
    "    featurewise_std_normalization=False, # divide inputs by std of the dataset\n",
    "    samplewise_std_normalization=False, #divide each input by its std\n",
    "    zca_whitening=False, #apply ZCA whitening\n",
    "    rotation_range=0., # randomly rotate images in the range (degrees, 0 to 180)\n",
    "    width_shift_range=0.1,  # randomly shift images horizontally (fraction of total width) \n",
    "    height_shift_range=0.1,  # randomly shift images vertically (fraction of total height)\n",
    "    horizontal_flip=True, \n",
    "    vertical_flip=False,\n",
    ")\n"
   ]
  },
  {
   "cell_type": "markdown",
   "metadata": {
    "colab_type": "text",
    "id": "3kRaaYSZeit_"
   },
   "source": [
    "## Step 3) Define Model architecture \n",
    "![alt text](https://cdnpythonmachinelearning.azureedge.net/wp-content/uploads/2017/09/lenet-5-825x285.png?x64257)"
   ]
  },
  {
   "cell_type": "code",
   "execution_count": 10,
   "metadata": {
    "colab": {
     "autoexec": {
      "startup": false,
      "wait_interval": 0
     }
    },
    "colab_type": "code",
    "collapsed": true,
    "id": "5QBSdtLMce57"
   },
   "outputs": [],
   "source": [
    "model = Sequential()\n",
    "# input: 100x100 images with 3 channels -> (100, 100, 3) tensors.\n",
    "# this applies 32 convolution filters of size 3x3 each.\n",
    "model.add(Conv2D(32, (3, 3), padding='same', activation='relu', input_shape=x_train.shape[1:]))\n",
    "\n",
    "model.add(Conv2D(32, (3, 3), activation='relu'))\n",
    "model.add(MaxPooling2D(pool_size=(2, 2)))\n",
    "model.add(Dropout(0.25))\n",
    "\n",
    "model.add(Conv2D(64, (3, 3), padding='same', activation='relu'))\n",
    "\n",
    "model.add(Conv2D(64, (3, 3), activation='relu'))\n",
    "model.add(MaxPooling2D(pool_size=(2, 2)))\n",
    "model.add(Dropout(0.25))\n",
    "\n",
    "model.add(Flatten())\n",
    "model.add(Dense(512, activation='relu'))\n",
    "model.add(Dropout(0.5))\n",
    "model.add(Dense(num_classes, activation='softmax'))\n"
   ]
  },
  {
   "cell_type": "markdown",
   "metadata": {
    "colab_type": "text",
    "id": "rBm_46cGg74e"
   },
   "source": [
    "### Step 4) Compile model"
   ]
  },
  {
   "cell_type": "code",
   "execution_count": 11,
   "metadata": {
    "colab": {
     "autoexec": {
      "startup": false,
      "wait_interval": 0
     }
    },
    "colab_type": "code",
    "collapsed": true,
    "id": "WPX1ww5Yg69K"
   },
   "outputs": [],
   "source": [
    "model.compile(loss='categorical_crossentropy',\n",
    "             optimizer='Adagrad',\n",
    "             metrics=['accuracy'])"
   ]
  },
  {
   "cell_type": "markdown",
   "metadata": {
    "colab_type": "text",
    "id": "twHfU_mihTUj"
   },
   "source": [
    "#### Summary of model"
   ]
  },
  {
   "cell_type": "code",
   "execution_count": 12,
   "metadata": {
    "colab": {
     "autoexec": {
      "startup": false,
      "wait_interval": 0
     },
     "base_uri": "https://localhost:8080/",
     "height": 544,
     "output_extras": [
      {
       "item_id": 1
      }
     ]
    },
    "colab_type": "code",
    "executionInfo": {
     "elapsed": 1046,
     "status": "ok",
     "timestamp": 1519745073493,
     "user": {
      "displayName": "Sushil Shah",
      "photoUrl": "//lh4.googleusercontent.com/-Ktk_nB19OQ4/AAAAAAAAAAI/AAAAAAAAFyE/m_ujZFjPlsE/s50-c-k-no/photo.jpg",
      "userId": "106187235510358892083"
     },
     "user_tz": -330
    },
    "id": "omafPfrjhVjg",
    "outputId": "777a171e-592d-4b8b-c96b-7bdb8fe11a3d"
   },
   "outputs": [
    {
     "name": "stdout",
     "output_type": "stream",
     "text": [
      "_________________________________________________________________\n",
      "Layer (type)                 Output Shape              Param #   \n",
      "=================================================================\n",
      "conv2d_1 (Conv2D)            (None, 32, 32, 32)        896       \n",
      "_________________________________________________________________\n",
      "conv2d_2 (Conv2D)            (None, 30, 30, 32)        9248      \n",
      "_________________________________________________________________\n",
      "max_pooling2d_1 (MaxPooling2 (None, 15, 15, 32)        0         \n",
      "_________________________________________________________________\n",
      "dropout_1 (Dropout)          (None, 15, 15, 32)        0         \n",
      "_________________________________________________________________\n",
      "conv2d_3 (Conv2D)            (None, 15, 15, 64)        18496     \n",
      "_________________________________________________________________\n",
      "conv2d_4 (Conv2D)            (None, 13, 13, 64)        36928     \n",
      "_________________________________________________________________\n",
      "max_pooling2d_2 (MaxPooling2 (None, 6, 6, 64)          0         \n",
      "_________________________________________________________________\n",
      "dropout_2 (Dropout)          (None, 6, 6, 64)          0         \n",
      "_________________________________________________________________\n",
      "flatten_1 (Flatten)          (None, 2304)              0         \n",
      "_________________________________________________________________\n",
      "dense_1 (Dense)              (None, 512)               1180160   \n",
      "_________________________________________________________________\n",
      "dropout_3 (Dropout)          (None, 512)               0         \n",
      "_________________________________________________________________\n",
      "dense_2 (Dense)              (None, 10)                5130      \n",
      "=================================================================\n",
      "Total params: 1,250,858\n",
      "Trainable params: 1,250,858\n",
      "Non-trainable params: 0\n",
      "_________________________________________________________________\n"
     ]
    }
   ],
   "source": [
    "model.summary()"
   ]
  },
  {
   "cell_type": "markdown",
   "metadata": {
    "colab_type": "text",
    "id": "BxeeowNKheY7"
   },
   "source": [
    "### Step 5) Fit model on training data"
   ]
  },
  {
   "cell_type": "code",
   "execution_count": 14,
   "metadata": {
    "colab": {
     "autoexec": {
      "startup": false,
      "wait_interval": 0
     },
     "base_uri": "https://localhost:8080/",
     "height": 1295,
     "output_extras": [
      {
       "item_id": 69
      },
      {
       "item_id": 126
      },
      {
       "item_id": 231
      },
      {
       "item_id": 285
      },
      {
       "item_id": 337
      },
      {
       "item_id": 390
      },
      {
       "item_id": 442
      },
      {
       "item_id": 493
      },
      {
       "item_id": 544
      },
      {
       "item_id": 594
      },
      {
       "item_id": 644
      },
      {
       "item_id": 694
      },
      {
       "item_id": 744
      },
      {
       "item_id": 792
      },
      {
       "item_id": 842
      },
      {
       "item_id": 890
      },
      {
       "item_id": 930
      },
      {
       "item_id": 1037
      },
      {
       "item_id": 1039
      }
     ]
    },
    "colab_type": "code",
    "id": "EwhZ8lnwhjtL",
    "outputId": "dd17461f-e9e9-4790-d5bf-df010c5cf6b9"
   },
   "outputs": [
    {
     "name": "stdout",
     "output_type": "stream",
     "text": [
      "Epoch 1/10\n",
      "195/195 [==============================] - 488s 3s/step - loss: 2.1265 - acc: 0.2148 - val_loss: 1.7268 - val_acc: 0.3726\n",
      "Epoch 2/10\n",
      "195/195 [==============================] - 486s 2s/step - loss: 1.6527 - acc: 0.3991 - val_loss: 1.3809 - val_acc: 0.4946\n",
      "Epoch 3/10\n",
      "195/195 [==============================] - 487s 2s/step - loss: 1.4611 - acc: 0.4707 - val_loss: 1.2671 - val_acc: 0.5413\n",
      "Epoch 4/10\n",
      "195/195 [==============================] - 487s 2s/step - loss: 1.3589 - acc: 0.5108 - val_loss: 1.1932 - val_acc: 0.5760\n",
      "Epoch 5/10\n",
      "195/195 [==============================] - 488s 3s/step - loss: 1.2827 - acc: 0.5426 - val_loss: 1.1438 - val_acc: 0.5909\n",
      "Epoch 6/10\n",
      "195/195 [==============================] - 485s 2s/step - loss: 1.2285 - acc: 0.5613 - val_loss: 1.0837 - val_acc: 0.6141\n",
      "Epoch 7/10\n",
      "195/195 [==============================] - 485s 2s/step - loss: 1.1801 - acc: 0.5809 - val_loss: 1.0796 - val_acc: 0.6143\n",
      "Epoch 8/10\n",
      "195/195 [==============================] - 484s 2s/step - loss: 1.1398 - acc: 0.5942 - val_loss: 1.0387 - val_acc: 0.6329\n",
      "Epoch 9/10\n",
      "195/195 [==============================] - 488s 3s/step - loss: 1.1112 - acc: 0.6051 - val_loss: 0.9607 - val_acc: 0.6568\n",
      "Epoch 10/10\n",
      "195/195 [==============================] - 45362s 233s/step - loss: 1.0796 - acc: 0.6166 - val_loss: 0.9543 - val_acc: 0.6609\n"
     ]
    },
    {
     "data": {
      "text/plain": [
       "<keras.callbacks.History at 0x16e9c06feb8>"
      ]
     },
     "execution_count": 14,
     "metadata": {},
     "output_type": "execute_result"
    }
   ],
   "source": [
    "#Compute quantaties required for feature-wise normalization\n",
    "#(std, mean, and principle component if zca whitening is applied)\n",
    "\n",
    "datagen.fit(x_train)\n",
    "\n",
    "# Fit the model on the batches generated by datagen flow\n",
    "model.fit_generator(datagen.flow(x_train, y_train,\n",
    "                                batch_size = batch_size),\n",
    "                   steps_per_epoch = x_train.shape[0] // batch_size,\n",
    "                   epochs=epochs,\n",
    "                   validation_data=(x_test, y_test))"
   ]
  },
  {
   "cell_type": "code",
   "execution_count": 15,
   "metadata": {
    "colab": {
     "autoexec": {
      "startup": false,
      "wait_interval": 0
     }
    },
    "colab_type": "code",
    "collapsed": true,
    "id": "eC3atet4j6CG"
   },
   "outputs": [],
   "source": [
    "#Save model\n",
    "model.save('cnn.h5')"
   ]
  },
  {
   "cell_type": "code",
   "execution_count": 16,
   "metadata": {
    "colab": {
     "autoexec": {
      "startup": false,
      "wait_interval": 0
     }
    },
    "colab_type": "code",
    "collapsed": true,
    "id": "tr3UcmoFhXWy"
   },
   "outputs": [],
   "source": [
    "import keras\n",
    "model = keras.models.load_model('./cnn.h5')"
   ]
  },
  {
   "cell_type": "code",
   "execution_count": 17,
   "metadata": {
    "colab": {
     "autoexec": {
      "startup": false,
      "wait_interval": 0
     }
    },
    "colab_type": "code",
    "collapsed": true,
    "id": "KIIP5npei3sL"
   },
   "outputs": [],
   "source": [
    "prd = model.predict(x_test)"
   ]
  },
  {
   "cell_type": "code",
   "execution_count": 18,
   "metadata": {
    "colab": {
     "autoexec": {
      "startup": false,
      "wait_interval": 0
     }
    },
    "colab_type": "code",
    "id": "hWZn70bIa742"
   },
   "outputs": [
    {
     "name": "stdout",
     "output_type": "stream",
     "text": [
      "[3 8 8 0 6 6 1 6 3 1]\n",
      "[3 8 8 0 6 6 1 6 3 1]\n"
     ]
    }
   ],
   "source": [
    "prd_y = np.argmax(prd, axis=1)\n",
    "y_test = np.argmax(y_test, axis=1)\n",
    "\n",
    "print(prd_y[0:10])\n",
    "print(y_test[0:10])"
   ]
  },
  {
   "cell_type": "code",
   "execution_count": 19,
   "metadata": {
    "colab": {
     "autoexec": {
      "startup": false,
      "wait_interval": 0
     }
    },
    "colab_type": "code",
    "id": "lVTmE3S4ja4H"
   },
   "outputs": [
    {
     "name": "stdout",
     "output_type": "stream",
     "text": [
      "Test accuracy is :  0.6609\n"
     ]
    }
   ],
   "source": [
    "nb_correct_labels = np.sum(prd_y == y_test)\n",
    "print(\"Test accuracy is : \", nb_correct_labels/len(y_test))"
   ]
  }
 ],
 "metadata": {
  "accelerator": "GPU",
  "colab": {
   "collapsed_sections": [],
   "default_view": {},
   "name": "cnn.ipynb",
   "provenance": [],
   "version": "0.3.2",
   "views": {}
  },
  "kernelspec": {
   "display_name": "Python 3",
   "language": "python",
   "name": "python3"
  },
  "language_info": {
   "codemirror_mode": {
    "name": "ipython",
    "version": 3
   },
   "file_extension": ".py",
   "mimetype": "text/x-python",
   "name": "python",
   "nbconvert_exporter": "python",
   "pygments_lexer": "ipython3",
   "version": "3.6.3"
  }
 },
 "nbformat": 4,
 "nbformat_minor": 1
}
